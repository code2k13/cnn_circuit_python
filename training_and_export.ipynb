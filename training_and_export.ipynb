{
 "cells": [
  {
   "cell_type": "code",
   "execution_count": 1,
   "id": "a49710e1",
   "metadata": {
    "_kg_hide-input": true,
    "execution": {
     "iopub.execute_input": "2024-06-29T04:44:43.362446Z",
     "iopub.status.busy": "2024-06-29T04:44:43.362006Z",
     "iopub.status.idle": "2024-06-29T04:44:43.377963Z",
     "shell.execute_reply": "2024-06-29T04:44:43.376838Z"
    },
    "papermill": {
     "duration": 0.026481,
     "end_time": "2024-06-29T04:44:43.380547",
     "exception": false,
     "start_time": "2024-06-29T04:44:43.354066",
     "status": "completed"
    },
    "tags": []
   },
   "outputs": [
    {
     "data": {
      "text/html": [
       "<iframe width=\"560\" height=\"315\" src=\"https://www.youtube.com/embed/CAKHJ_41LRE?si=VHeZfAQdid9ZNr_i\" title=\"YouTube video player\" frameborder=\"0\" allow=\"accelerometer; autoplay; clipboard-write; encrypted-media; gyroscope; picture-in-picture; web-share\" referrerpolicy=\"strict-origin-when-cross-origin\" allowfullscreen></iframe>\n"
      ],
      "text/plain": [
       "<IPython.core.display.HTML object>"
      ]
     },
     "metadata": {},
     "output_type": "display_data"
    }
   ],
   "source": [
    "%%html\n",
    "<iframe width=\"560\" height=\"315\" src=\"https://www.youtube.com/embed/CAKHJ_41LRE?si=VHeZfAQdid9ZNr_i\" title=\"YouTube video player\" frameborder=\"0\" allow=\"accelerometer; autoplay; clipboard-write; encrypted-media; gyroscope; picture-in-picture; web-share\" referrerpolicy=\"strict-origin-when-cross-origin\" allowfullscreen></iframe>"
   ]
  },
  {
   "cell_type": "markdown",
   "id": "14a98961",
   "metadata": {
    "papermill": {
     "duration": 0.005786,
     "end_time": "2024-06-29T04:44:43.392530",
     "exception": false,
     "start_time": "2024-06-29T04:44:43.386744",
     "status": "completed"
    },
    "tags": []
   },
   "source": [
    "This notebook trains a very tiny convolutional neural network on the MNIST dataset and generates a CircuitPython compatible library that can be used to perform inference on a microcontroller. Checkout the article on my website which had detailed explanation on how this works. It should also help you train your own neural networks and port them to CircuitPython.\n",
    "\n",
    "If you are curious as to why CircuitPython (and not TFLite), please read this article. For instructions on assembling the circuit and running the code on the Raspberry Pi Pico, please check out this article."
   ]
  },
  {
   "cell_type": "markdown",
   "id": "aebc5575",
   "metadata": {
    "papermill": {
     "duration": 0.005869,
     "end_time": "2024-06-29T04:44:43.404432",
     "exception": false,
     "start_time": "2024-06-29T04:44:43.398563",
     "status": "completed"
    },
    "tags": []
   },
   "source": [
    "## Loading the dataset\n",
    "\n",
    "> Note: We resize images to 30x30. Larger image means more data and less noise. Very helpful when working with cameras"
   ]
  },
  {
   "cell_type": "code",
   "execution_count": 2,
   "id": "146c8f3e",
   "metadata": {
    "execution": {
     "iopub.execute_input": "2024-06-29T04:44:43.418707Z",
     "iopub.status.busy": "2024-06-29T04:44:43.417679Z",
     "iopub.status.idle": "2024-06-29T04:45:00.358743Z",
     "shell.execute_reply": "2024-06-29T04:45:00.357676Z"
    },
    "papermill": {
     "duration": 16.950889,
     "end_time": "2024-06-29T04:45:00.361334",
     "exception": false,
     "start_time": "2024-06-29T04:44:43.410445",
     "status": "completed"
    },
    "tags": []
   },
   "outputs": [
    {
     "name": "stderr",
     "output_type": "stream",
     "text": [
      "2024-06-29 04:44:45.623543: E external/local_xla/xla/stream_executor/cuda/cuda_dnn.cc:9261] Unable to register cuDNN factory: Attempting to register factory for plugin cuDNN when one has already been registered\n",
      "2024-06-29 04:44:45.623705: E external/local_xla/xla/stream_executor/cuda/cuda_fft.cc:607] Unable to register cuFFT factory: Attempting to register factory for plugin cuFFT when one has already been registered\n",
      "2024-06-29 04:44:45.787514: E external/local_xla/xla/stream_executor/cuda/cuda_blas.cc:1515] Unable to register cuBLAS factory: Attempting to register factory for plugin cuBLAS when one has already been registered\n"
     ]
    },
    {
     "name": "stdout",
     "output_type": "stream",
     "text": [
      "Downloading data from https://storage.googleapis.com/tensorflow/tf-keras-datasets/mnist.npz\n",
      "\u001b[1m11490434/11490434\u001b[0m \u001b[32m━━━━━━━━━━━━━━━━━━━━\u001b[0m\u001b[37m\u001b[0m \u001b[1m1s\u001b[0m 0us/step\n"
     ]
    }
   ],
   "source": [
    "import tensorflow as tf\n",
    "from tensorflow.keras import layers, models\n",
    "import numpy as np\n",
    "import matplotlib.pyplot as plt\n",
    "\n",
    "(train_images, train_labels), (test_images, test_labels) = tf.keras.datasets.mnist.load_data()\n",
    "\n",
    "train_images = train_images.reshape((60000, 28, 28, 1)).astype('float32') / 255\n",
    "test_images = test_images.reshape((10000, 28, 28, 1)).astype('float32') / 255\n",
    "\n",
    "train_images = tf.image.resize(train_images, [30, 30])\n",
    "test_images = tf.image.resize(test_images, [30, 30])\n",
    "\n",
    "train_labels = tf.keras.utils.to_categorical(train_labels, 10)\n",
    "test_labels = tf.keras.utils.to_categorical(test_labels, 10)\n"
   ]
  },
  {
   "cell_type": "markdown",
   "id": "25f2f15f",
   "metadata": {
    "papermill": {
     "duration": 0.007467,
     "end_time": "2024-06-29T04:45:00.376252",
     "exception": false,
     "start_time": "2024-06-29T04:45:00.368785",
     "status": "completed"
    },
    "tags": []
   },
   "source": [
    "## Creating a lightweight CNN"
   ]
  },
  {
   "cell_type": "code",
   "execution_count": 3,
   "id": "1b35a736",
   "metadata": {
    "execution": {
     "iopub.execute_input": "2024-06-29T04:45:00.392964Z",
     "iopub.status.busy": "2024-06-29T04:45:00.392302Z",
     "iopub.status.idle": "2024-06-29T04:45:00.483287Z",
     "shell.execute_reply": "2024-06-29T04:45:00.481836Z"
    },
    "papermill": {
     "duration": 0.102121,
     "end_time": "2024-06-29T04:45:00.485659",
     "exception": false,
     "start_time": "2024-06-29T04:45:00.383538",
     "status": "completed"
    },
    "tags": []
   },
   "outputs": [
    {
     "name": "stderr",
     "output_type": "stream",
     "text": [
      "/opt/conda/lib/python3.10/site-packages/keras/src/layers/convolutional/base_conv.py:107: UserWarning: Do not pass an `input_shape`/`input_dim` argument to a layer. When using Sequential models, prefer using an `Input(shape)` object as the first layer in the model instead.\n",
      "  super().__init__(activity_regularizer=activity_regularizer, **kwargs)\n"
     ]
    }
   ],
   "source": [
    "model = models.Sequential()\n",
    "model.add(layers.Conv2D(8, (3, 3), activation='relu', input_shape=(30, 30, 1)))\n",
    "model.add(layers.MaxPooling2D((2, 2)))\n",
    "model.add(layers.Conv2D(2, (3, 3), activation='relu'))\n",
    "model.add(layers.Flatten())\n",
    "model.add(layers.Dense(10, activation='softmax'))\n",
    "model.compile(optimizer='adam', \n",
    "              loss='categorical_crossentropy', \n",
    "              metrics=['accuracy'])\n"
   ]
  },
  {
   "cell_type": "code",
   "execution_count": 4,
   "id": "02d4d053",
   "metadata": {
    "execution": {
     "iopub.execute_input": "2024-06-29T04:45:00.501665Z",
     "iopub.status.busy": "2024-06-29T04:45:00.501284Z",
     "iopub.status.idle": "2024-06-29T04:45:00.525205Z",
     "shell.execute_reply": "2024-06-29T04:45:00.523973Z"
    },
    "papermill": {
     "duration": 0.034527,
     "end_time": "2024-06-29T04:45:00.527498",
     "exception": false,
     "start_time": "2024-06-29T04:45:00.492971",
     "status": "completed"
    },
    "tags": []
   },
   "outputs": [
    {
     "data": {
      "text/html": [
       "<pre style=\"white-space:pre;overflow-x:auto;line-height:normal;font-family:Menlo,'DejaVu Sans Mono',consolas,'Courier New',monospace\"><span style=\"font-weight: bold\">Model: \"sequential\"</span>\n",
       "</pre>\n"
      ],
      "text/plain": [
       "\u001b[1mModel: \"sequential\"\u001b[0m\n"
      ]
     },
     "metadata": {},
     "output_type": "display_data"
    },
    {
     "data": {
      "text/html": [
       "<pre style=\"white-space:pre;overflow-x:auto;line-height:normal;font-family:Menlo,'DejaVu Sans Mono',consolas,'Courier New',monospace\">┏━━━━━━━━━━━━━━━━━━━━━━━━━━━━━━━━━┳━━━━━━━━━━━━━━━━━━━━━━━━┳━━━━━━━━━━━━━━━┓\n",
       "┃<span style=\"font-weight: bold\"> Layer (type)                    </span>┃<span style=\"font-weight: bold\"> Output Shape           </span>┃<span style=\"font-weight: bold\">       Param # </span>┃\n",
       "┡━━━━━━━━━━━━━━━━━━━━━━━━━━━━━━━━━╇━━━━━━━━━━━━━━━━━━━━━━━━╇━━━━━━━━━━━━━━━┩\n",
       "│ conv2d (<span style=\"color: #0087ff; text-decoration-color: #0087ff\">Conv2D</span>)                 │ (<span style=\"color: #00d7ff; text-decoration-color: #00d7ff\">None</span>, <span style=\"color: #00af00; text-decoration-color: #00af00\">28</span>, <span style=\"color: #00af00; text-decoration-color: #00af00\">28</span>, <span style=\"color: #00af00; text-decoration-color: #00af00\">8</span>)      │            <span style=\"color: #00af00; text-decoration-color: #00af00\">80</span> │\n",
       "├─────────────────────────────────┼────────────────────────┼───────────────┤\n",
       "│ max_pooling2d (<span style=\"color: #0087ff; text-decoration-color: #0087ff\">MaxPooling2D</span>)    │ (<span style=\"color: #00d7ff; text-decoration-color: #00d7ff\">None</span>, <span style=\"color: #00af00; text-decoration-color: #00af00\">14</span>, <span style=\"color: #00af00; text-decoration-color: #00af00\">14</span>, <span style=\"color: #00af00; text-decoration-color: #00af00\">8</span>)      │             <span style=\"color: #00af00; text-decoration-color: #00af00\">0</span> │\n",
       "├─────────────────────────────────┼────────────────────────┼───────────────┤\n",
       "│ conv2d_1 (<span style=\"color: #0087ff; text-decoration-color: #0087ff\">Conv2D</span>)               │ (<span style=\"color: #00d7ff; text-decoration-color: #00d7ff\">None</span>, <span style=\"color: #00af00; text-decoration-color: #00af00\">12</span>, <span style=\"color: #00af00; text-decoration-color: #00af00\">12</span>, <span style=\"color: #00af00; text-decoration-color: #00af00\">2</span>)      │           <span style=\"color: #00af00; text-decoration-color: #00af00\">146</span> │\n",
       "├─────────────────────────────────┼────────────────────────┼───────────────┤\n",
       "│ flatten (<span style=\"color: #0087ff; text-decoration-color: #0087ff\">Flatten</span>)               │ (<span style=\"color: #00d7ff; text-decoration-color: #00d7ff\">None</span>, <span style=\"color: #00af00; text-decoration-color: #00af00\">288</span>)            │             <span style=\"color: #00af00; text-decoration-color: #00af00\">0</span> │\n",
       "├─────────────────────────────────┼────────────────────────┼───────────────┤\n",
       "│ dense (<span style=\"color: #0087ff; text-decoration-color: #0087ff\">Dense</span>)                   │ (<span style=\"color: #00d7ff; text-decoration-color: #00d7ff\">None</span>, <span style=\"color: #00af00; text-decoration-color: #00af00\">10</span>)             │         <span style=\"color: #00af00; text-decoration-color: #00af00\">2,890</span> │\n",
       "└─────────────────────────────────┴────────────────────────┴───────────────┘\n",
       "</pre>\n"
      ],
      "text/plain": [
       "┏━━━━━━━━━━━━━━━━━━━━━━━━━━━━━━━━━┳━━━━━━━━━━━━━━━━━━━━━━━━┳━━━━━━━━━━━━━━━┓\n",
       "┃\u001b[1m \u001b[0m\u001b[1mLayer (type)                   \u001b[0m\u001b[1m \u001b[0m┃\u001b[1m \u001b[0m\u001b[1mOutput Shape          \u001b[0m\u001b[1m \u001b[0m┃\u001b[1m \u001b[0m\u001b[1m      Param #\u001b[0m\u001b[1m \u001b[0m┃\n",
       "┡━━━━━━━━━━━━━━━━━━━━━━━━━━━━━━━━━╇━━━━━━━━━━━━━━━━━━━━━━━━╇━━━━━━━━━━━━━━━┩\n",
       "│ conv2d (\u001b[38;5;33mConv2D\u001b[0m)                 │ (\u001b[38;5;45mNone\u001b[0m, \u001b[38;5;34m28\u001b[0m, \u001b[38;5;34m28\u001b[0m, \u001b[38;5;34m8\u001b[0m)      │            \u001b[38;5;34m80\u001b[0m │\n",
       "├─────────────────────────────────┼────────────────────────┼───────────────┤\n",
       "│ max_pooling2d (\u001b[38;5;33mMaxPooling2D\u001b[0m)    │ (\u001b[38;5;45mNone\u001b[0m, \u001b[38;5;34m14\u001b[0m, \u001b[38;5;34m14\u001b[0m, \u001b[38;5;34m8\u001b[0m)      │             \u001b[38;5;34m0\u001b[0m │\n",
       "├─────────────────────────────────┼────────────────────────┼───────────────┤\n",
       "│ conv2d_1 (\u001b[38;5;33mConv2D\u001b[0m)               │ (\u001b[38;5;45mNone\u001b[0m, \u001b[38;5;34m12\u001b[0m, \u001b[38;5;34m12\u001b[0m, \u001b[38;5;34m2\u001b[0m)      │           \u001b[38;5;34m146\u001b[0m │\n",
       "├─────────────────────────────────┼────────────────────────┼───────────────┤\n",
       "│ flatten (\u001b[38;5;33mFlatten\u001b[0m)               │ (\u001b[38;5;45mNone\u001b[0m, \u001b[38;5;34m288\u001b[0m)            │             \u001b[38;5;34m0\u001b[0m │\n",
       "├─────────────────────────────────┼────────────────────────┼───────────────┤\n",
       "│ dense (\u001b[38;5;33mDense\u001b[0m)                   │ (\u001b[38;5;45mNone\u001b[0m, \u001b[38;5;34m10\u001b[0m)             │         \u001b[38;5;34m2,890\u001b[0m │\n",
       "└─────────────────────────────────┴────────────────────────┴───────────────┘\n"
      ]
     },
     "metadata": {},
     "output_type": "display_data"
    },
    {
     "data": {
      "text/html": [
       "<pre style=\"white-space:pre;overflow-x:auto;line-height:normal;font-family:Menlo,'DejaVu Sans Mono',consolas,'Courier New',monospace\"><span style=\"font-weight: bold\"> Total params: </span><span style=\"color: #00af00; text-decoration-color: #00af00\">3,116</span> (12.17 KB)\n",
       "</pre>\n"
      ],
      "text/plain": [
       "\u001b[1m Total params: \u001b[0m\u001b[38;5;34m3,116\u001b[0m (12.17 KB)\n"
      ]
     },
     "metadata": {},
     "output_type": "display_data"
    },
    {
     "data": {
      "text/html": [
       "<pre style=\"white-space:pre;overflow-x:auto;line-height:normal;font-family:Menlo,'DejaVu Sans Mono',consolas,'Courier New',monospace\"><span style=\"font-weight: bold\"> Trainable params: </span><span style=\"color: #00af00; text-decoration-color: #00af00\">3,116</span> (12.17 KB)\n",
       "</pre>\n"
      ],
      "text/plain": [
       "\u001b[1m Trainable params: \u001b[0m\u001b[38;5;34m3,116\u001b[0m (12.17 KB)\n"
      ]
     },
     "metadata": {},
     "output_type": "display_data"
    },
    {
     "data": {
      "text/html": [
       "<pre style=\"white-space:pre;overflow-x:auto;line-height:normal;font-family:Menlo,'DejaVu Sans Mono',consolas,'Courier New',monospace\"><span style=\"font-weight: bold\"> Non-trainable params: </span><span style=\"color: #00af00; text-decoration-color: #00af00\">0</span> (0.00 B)\n",
       "</pre>\n"
      ],
      "text/plain": [
       "\u001b[1m Non-trainable params: \u001b[0m\u001b[38;5;34m0\u001b[0m (0.00 B)\n"
      ]
     },
     "metadata": {},
     "output_type": "display_data"
    }
   ],
   "source": [
    "model.summary()"
   ]
  },
  {
   "cell_type": "markdown",
   "id": "3dc5a882",
   "metadata": {
    "papermill": {
     "duration": 0.007683,
     "end_time": "2024-06-29T04:45:00.543424",
     "exception": false,
     "start_time": "2024-06-29T04:45:00.535741",
     "status": "completed"
    },
    "tags": []
   },
   "source": [
    "Keep training till you get desired accuracy. Feel free to experiment by modifying parameters and epochs in below code"
   ]
  },
  {
   "cell_type": "code",
   "execution_count": 5,
   "id": "3b91a6aa",
   "metadata": {
    "execution": {
     "iopub.execute_input": "2024-06-29T04:45:00.561865Z",
     "iopub.status.busy": "2024-06-29T04:45:00.561471Z",
     "iopub.status.idle": "2024-06-29T04:45:45.555482Z",
     "shell.execute_reply": "2024-06-29T04:45:45.554494Z"
    },
    "papermill": {
     "duration": 45.006738,
     "end_time": "2024-06-29T04:45:45.558146",
     "exception": false,
     "start_time": "2024-06-29T04:45:00.551408",
     "status": "completed"
    },
    "tags": []
   },
   "outputs": [
    {
     "name": "stdout",
     "output_type": "stream",
     "text": [
      "Epoch 1/5\n",
      "\u001b[1m750/750\u001b[0m \u001b[32m━━━━━━━━━━━━━━━━━━━━\u001b[0m\u001b[37m\u001b[0m \u001b[1m10s\u001b[0m 12ms/step - accuracy: 0.7001 - loss: 0.9542 - val_accuracy: 0.9068 - val_loss: 0.3218\n",
      "Epoch 2/5\n",
      "\u001b[1m750/750\u001b[0m \u001b[32m━━━━━━━━━━━━━━━━━━━━\u001b[0m\u001b[37m\u001b[0m \u001b[1m8s\u001b[0m 11ms/step - accuracy: 0.9053 - loss: 0.3235 - val_accuracy: 0.9434 - val_loss: 0.2058\n",
      "Epoch 3/5\n",
      "\u001b[1m750/750\u001b[0m \u001b[32m━━━━━━━━━━━━━━━━━━━━\u001b[0m\u001b[37m\u001b[0m \u001b[1m9s\u001b[0m 11ms/step - accuracy: 0.9410 - loss: 0.1998 - val_accuracy: 0.9570 - val_loss: 0.1527\n",
      "Epoch 4/5\n",
      "\u001b[1m750/750\u001b[0m \u001b[32m━━━━━━━━━━━━━━━━━━━━\u001b[0m\u001b[37m\u001b[0m \u001b[1m9s\u001b[0m 12ms/step - accuracy: 0.9559 - loss: 0.1448 - val_accuracy: 0.9632 - val_loss: 0.1317\n",
      "Epoch 5/5\n",
      "\u001b[1m750/750\u001b[0m \u001b[32m━━━━━━━━━━━━━━━━━━━━\u001b[0m\u001b[37m\u001b[0m \u001b[1m9s\u001b[0m 11ms/step - accuracy: 0.9627 - loss: 0.1277 - val_accuracy: 0.9666 - val_loss: 0.1191\n"
     ]
    }
   ],
   "source": [
    "history = model.fit(train_images, train_labels, epochs=5, batch_size=64, validation_split=0.2)"
   ]
  },
  {
   "cell_type": "code",
   "execution_count": 6,
   "id": "ba3d0d7e",
   "metadata": {
    "execution": {
     "iopub.execute_input": "2024-06-29T04:45:45.670487Z",
     "iopub.status.busy": "2024-06-29T04:45:45.669710Z",
     "iopub.status.idle": "2024-06-29T04:45:46.973956Z",
     "shell.execute_reply": "2024-06-29T04:45:46.972890Z"
    },
    "papermill": {
     "duration": 1.363227,
     "end_time": "2024-06-29T04:45:46.976361",
     "exception": false,
     "start_time": "2024-06-29T04:45:45.613134",
     "status": "completed"
    },
    "tags": []
   },
   "outputs": [
    {
     "name": "stdout",
     "output_type": "stream",
     "text": [
      "\u001b[1m313/313\u001b[0m \u001b[32m━━━━━━━━━━━━━━━━━━━━\u001b[0m\u001b[37m\u001b[0m \u001b[1m1s\u001b[0m 4ms/step - accuracy: 0.9613 - loss: 0.1199\n",
      "Test accuracy: 0.9678000211715698\n"
     ]
    }
   ],
   "source": [
    "test_loss, test_acc = model.evaluate(test_images, test_labels)\n",
    "print(f'Test accuracy: {test_acc}')"
   ]
  },
  {
   "cell_type": "code",
   "execution_count": 7,
   "id": "c6bdd25c",
   "metadata": {
    "execution": {
     "iopub.execute_input": "2024-06-29T04:45:47.095031Z",
     "iopub.status.busy": "2024-06-29T04:45:47.094555Z",
     "iopub.status.idle": "2024-06-29T04:45:47.626322Z",
     "shell.execute_reply": "2024-06-29T04:45:47.625143Z"
    },
    "papermill": {
     "duration": 0.594082,
     "end_time": "2024-06-29T04:45:47.628802",
     "exception": false,
     "start_time": "2024-06-29T04:45:47.034720",
     "status": "completed"
    },
    "tags": []
   },
   "outputs": [
    {
     "data": {
      "image/png": "[encoded data removed]",
      "text/plain": [
       "<Figure size 1200x400 with 2 Axes>"
      ]
     },
     "metadata": {},
     "output_type": "display_data"
    }
   ],
   "source": [
    "acc = history.history['accuracy']\n",
    "val_acc = history.history['val_accuracy']\n",
    "loss = history.history['loss']\n",
    "val_loss = history.history['val_loss']\n",
    "\n",
    "epochs = range(1, len(acc) + 1)\n",
    "\n",
    "\n",
    "\n",
    "plt.figure(figsize=(12, 4))\n",
    "plt.subplot(1, 2, 1)\n",
    "plt.plot(epochs, acc, 'bo', label='Training accuracy')\n",
    "plt.plot(epochs, val_acc, 'b', label='Validation accuracy')\n",
    "plt.title('Training and validation accuracy')\n",
    "plt.legend()\n",
    "\n",
    "plt.subplot(1, 2, 2)\n",
    "plt.plot(epochs, loss, 'bo', label='Training loss')\n",
    "plt.plot(epochs, val_loss, 'b', label='Validation loss')\n",
    "plt.title('Training and validation loss')\n",
    "plt.legend()\n",
    "\n",
    "plt.show()\n"
   ]
  },
  {
   "cell_type": "markdown",
   "id": "62429f9e",
   "metadata": {
    "papermill": {
     "duration": 0.059069,
     "end_time": "2024-06-29T04:45:47.749048",
     "exception": false,
     "start_time": "2024-06-29T04:45:47.689979",
     "status": "completed"
    },
    "tags": []
   },
   "source": [
    "## Exporting weights and biases for every layer\n",
    "\n",
    "The below code simply outputs variable declartions to a text file in python variable declartion syntax. Simply copy these weights and paste them in `mnist_clf.py`. Once that is done you need to generate a `mnist_clf.mpy` file using [mpy-cross](https://adafruit-circuit-python.s3.amazonaws.com/index.html?prefix=bin/mpy-cross/) tool. You can read more about `mpy` files and `mpy-cross` [here](https://learn.adafruit.com/welcome-to-circuitpython/library-file-types-and-frozen-libraries).\n",
    "\n",
    "The Github repository for the project also contains detailed instructions on training your own model and using the weights: xxxxxx"
   ]
  },
  {
   "cell_type": "code",
   "execution_count": 8,
   "id": "25bd8921",
   "metadata": {
    "execution": {
     "iopub.execute_input": "2024-06-29T04:45:47.869024Z",
     "iopub.status.busy": "2024-06-29T04:45:47.868606Z",
     "iopub.status.idle": "2024-06-29T04:45:47.913999Z",
     "shell.execute_reply": "2024-06-29T04:45:47.912828Z"
    },
    "papermill": {
     "duration": 0.107461,
     "end_time": "2024-06-29T04:45:47.916608",
     "exception": false,
     "start_time": "2024-06-29T04:45:47.809147",
     "status": "completed"
    },
    "tags": []
   },
   "outputs": [
    {
     "name": "stdout",
     "output_type": "stream",
     "text": [
      "Done writing weights !\n"
     ]
    }
   ],
   "source": [
    "import numpy as np\n",
    "\n",
    "weights = {}\n",
    "np.set_printoptions(threshold=np.inf)\n",
    "\n",
    "with open(\"mnist_weights.py.txt\", \"w\") as f:\n",
    "    f.write(\"# Overwrite the variable declarations in mnist_clf.py with below declarations\\n\")\n",
    "    f.write(\"# Once mnist_clf.py file is generated, create the mnist_clf.mpy using mpy-cross\\n\")\n",
    "    f.write(\"# For more information visit:\\n\")\n",
    "    f.write(\"\\n\")\n",
    "    for i, layer in enumerate(model.layers):\n",
    "        if i == 0:\n",
    "            weights = layer.get_weights()\n",
    "            weights_0 = [weights[0][:, :, 0, i] for i in range(weights[0].shape[3])]\n",
    "            f.write(f\"weights_0 = {repr(weights_0)}\\n\")\n",
    "            f.write(f\"biases_0 = {repr(weights[1])}\\n\")\n",
    "            \n",
    "        if i == 2:\n",
    "            weights = layer.get_weights()\n",
    "            weights_1 = [[weights[0][:, :, k, f] for k in range(8)] for f in range(2)]\n",
    "            f.write(f\"weights_1 = {repr(weights_1)}\\n\")\n",
    "            f.write(f\"biases_1 = {repr(weights[1])}\\n\")\n",
    "            \n",
    "        if i == 4:\n",
    "            weights = layer.get_weights()\n",
    "            f.write(f\"weights_2 = {repr(weights[0])}\\n\")\n",
    "            f.write(f\"biases_2 = {repr(weights[1])}\\n\")\n",
    "            \n",
    "print(\"Done writing weights !\")"
   ]
  },
  {
   "cell_type": "markdown",
   "id": "9c8f6f27",
   "metadata": {
    "papermill": {
     "duration": 0.059584,
     "end_time": "2024-06-29T04:45:48.093716",
     "exception": false,
     "start_time": "2024-06-29T04:45:48.034132",
     "status": "completed"
    },
    "tags": []
   },
   "source": [
    "## Exporting outputs for known inputs (for validating our implementation)\n",
    "\n",
    "The code given below generates images with known patterns and outputs the classifier's predictions. For each usecase, you can run the `verify.py` file on the CircuitPython board to check if the classifier's output on your computer match those on the board."
   ]
  },
  {
   "cell_type": "code",
   "execution_count": 9,
   "id": "c2069274",
   "metadata": {
    "execution": {
     "iopub.execute_input": "2024-06-29T04:45:48.215797Z",
     "iopub.status.busy": "2024-06-29T04:45:48.214755Z",
     "iopub.status.idle": "2024-06-29T04:45:48.548196Z",
     "shell.execute_reply": "2024-06-29T04:45:48.547067Z"
    },
    "papermill": {
     "duration": 0.397489,
     "end_time": "2024-06-29T04:45:48.550423",
     "exception": false,
     "start_time": "2024-06-29T04:45:48.152934",
     "status": "completed"
    },
    "tags": []
   },
   "outputs": [
    {
     "name": "stdout",
     "output_type": "stream",
     "text": [
      "\u001b[1m1/1\u001b[0m \u001b[32m━━━━━━━━━━━━━━━━━━━━\u001b[0m\u001b[37m\u001b[0m \u001b[1m0s\u001b[0m 63ms/step\n",
      "\u001b[1m1/1\u001b[0m \u001b[32m━━━━━━━━━━━━━━━━━━━━\u001b[0m\u001b[37m\u001b[0m \u001b[1m0s\u001b[0m 20ms/step\n",
      "\u001b[1m1/1\u001b[0m \u001b[32m━━━━━━━━━━━━━━━━━━━━\u001b[0m\u001b[37m\u001b[0m \u001b[1m0s\u001b[0m 20ms/step\n",
      "\u001b[1m1/1\u001b[0m \u001b[32m━━━━━━━━━━━━━━━━━━━━\u001b[0m\u001b[37m\u001b[0m \u001b[1m0s\u001b[0m 19ms/step\n",
      "Results written to results.py\n"
     ]
    }
   ],
   "source": [
    "import numpy as np\n",
    "\n",
    "def create_pattern(pattern_type):\n",
    "    if pattern_type == '1010':\n",
    "        pattern = np.array([[1, 0] * 15] * 30) \n",
    "    elif pattern_type == '1111':\n",
    "        pattern = np.ones((30, 30))\n",
    "    elif pattern_type == '0101':\n",
    "        pattern = np.array([[0, 1] * 15] * 30)  \n",
    "    elif pattern_type == '1100':\n",
    "        pattern = np.array([[1, 1, 0, 0] * 7 + [1, 1]] * 30)\n",
    "    else:\n",
    "        raise ValueError(\"Unknown pattern type\")\n",
    "    \n",
    "    return pattern.reshape(30, 30)\n",
    "\n",
    "def perform_inference(model, pattern):\n",
    "    pattern = pattern.reshape(1, 30, 30, 1).astype('float32')    \n",
    "    output = model.predict(pattern)\n",
    "    \n",
    "    return output\n",
    "\n",
    "# List of pattern types\n",
    "pattern_types = ['1010', '1111', '0101', '1100']\n",
    "\n",
    "# Open file to write results\n",
    "with open(\"validation_results.py.txt\", \"w\") as f:\n",
    "    f.write(\"# Results of predictions\\n\\n\")\n",
    "    for i, pattern_type in enumerate(pattern_types):\n",
    "        pattern = create_pattern(pattern_type)\n",
    "        output = perform_inference(model, pattern)\n",
    "        f.write(f\"result_{i} = {output[0].tolist()}\\n\")\n",
    "        f.write(\"\\n\")\n",
    "\n",
    "print(\"Results written to results.py\")"
   ]
  },
  {
   "cell_type": "code",
   "execution_count": null,
   "id": "9883230b",
   "metadata": {
    "papermill": {
     "duration": 0.058542,
     "end_time": "2024-06-29T04:45:48.667226",
     "exception": false,
     "start_time": "2024-06-29T04:45:48.608684",
     "status": "completed"
    },
    "tags": []
   },
   "outputs": [],
   "source": []
  },
  {
   "cell_type": "markdown",
   "id": "23c94d29",
   "metadata": {
    "papermill": {
     "duration": 0.058963,
     "end_time": "2024-06-29T04:45:48.786104",
     "exception": false,
     "start_time": "2024-06-29T04:45:48.727141",
     "status": "completed"
    },
    "tags": []
   },
   "source": [
    "## Generating the classifier module for CircuitPython"
   ]
  },
  {
   "cell_type": "code",
   "execution_count": 10,
   "id": "7dcfb56a",
   "metadata": {
    "execution": {
     "iopub.execute_input": "2024-06-29T04:45:48.905881Z",
     "iopub.status.busy": "2024-06-29T04:45:48.905484Z",
     "iopub.status.idle": "2024-06-29T04:45:49.095898Z",
     "shell.execute_reply": "2024-06-29T04:45:49.094761Z"
    },
    "papermill": {
     "duration": 0.252589,
     "end_time": "2024-06-29T04:45:49.098374",
     "exception": false,
     "start_time": "2024-06-29T04:45:48.845785",
     "status": "completed"
    },
    "tags": []
   },
   "outputs": [
    {
     "name": "stdout",
     "output_type": "stream",
     "text": [
      "Template file downloaded and saved as downloaded_file.txt\n",
      "Modified template saved as mnist_clf.py\n"
     ]
    }
   ],
   "source": [
    "import requests\n",
    "\n",
    "# Step 1: Download the template file from the URL\n",
    "url = \"https://raw.githubusercontent.com/code2k13/cnn_circuit_python/main/mnist_clf_template.py.txt\"\n",
    "response = requests.get(url)\n",
    "downloaded_file_path = \"downloaded_file.txt\"\n",
    "\n",
    "with open(downloaded_file_path, 'wb') as f:\n",
    "    f.write(response.content)\n",
    "\n",
    "print(f\"Template file downloaded and saved as {downloaded_file_path}\")\n",
    "\n",
    "# Paths for the files to be inserted\n",
    "weights_file_path = \"mnist_weights.py.txt\"\n",
    "validation_file_path = \"validation_results.py.txt\"\n",
    "\n",
    "# Step 2: Read content from the files to be inserted\n",
    "with open(weights_file_path, 'r') as f:\n",
    "    weights_content = f.read()\n",
    "    weights_content = weights_content.replace(\"array\",\"np.array\")\n",
    "    weights_content = weights_content.replace(\"float32\",\"np.float\")\n",
    "\n",
    "with open(validation_file_path, 'r') as f:\n",
    "    validation_content = f.read()\n",
    "\n",
    "# Step 3: Insert content into the template\n",
    "with open(downloaded_file_path, 'r') as f:\n",
    "    template_content = f.read()\n",
    "\n",
    "# Insert weights content\n",
    "template_content = template_content.replace(\n",
    "    \"##### weights sections starts #####\\n\\n##### weights sections ends #####\",\n",
    "    f\"##### weights sections starts #####\\n{weights_content}\\n##### weights sections ends #####\"\n",
    ")\n",
    "\n",
    "# Insert validation content\n",
    "template_content = template_content.replace(\n",
    "    \"##### validation sections starts #####\\n\\n##### validation sections ends #####\",\n",
    "    f\"##### validation sections starts #####\\n{validation_content}\\n##### validation sections ends #####\"\n",
    ")\n",
    "\n",
    "# Save the modified template\n",
    "output_file_path = \"mnist_clf.py\"\n",
    "with open(output_file_path, 'w') as f:\n",
    "    f.write(template_content)\n",
    "\n",
    "print(f\"Modified template saved as {output_file_path}\")\n"
   ]
  },
  {
   "cell_type": "markdown",
   "id": "57b2da57",
   "metadata": {
    "papermill": {
     "duration": 0.059097,
     "end_time": "2024-06-29T04:45:49.216685",
     "exception": false,
     "start_time": "2024-06-29T04:45:49.157588",
     "status": "completed"
    },
    "tags": []
   },
   "source": [
    "## Validate our code"
   ]
  },
  {
   "cell_type": "code",
   "execution_count": 11,
   "id": "badcbb29",
   "metadata": {
    "execution": {
     "iopub.execute_input": "2024-06-29T04:45:49.336511Z",
     "iopub.status.busy": "2024-06-29T04:45:49.336140Z",
     "iopub.status.idle": "2024-06-29T04:45:49.345254Z",
     "shell.execute_reply": "2024-06-29T04:45:49.343912Z"
    },
    "papermill": {
     "duration": 0.072122,
     "end_time": "2024-06-29T04:45:49.347490",
     "exception": false,
     "start_time": "2024-06-29T04:45:49.275368",
     "status": "completed"
    },
    "tags": []
   },
   "outputs": [
    {
     "name": "stdout",
     "output_type": "stream",
     "text": [
      "Successfully copied and modified mnist_clf.py to mnist_clf_pc.py.\n"
     ]
    }
   ],
   "source": [
    "import shutil\n",
    "\n",
    "src_file = 'mnist_clf.py'\n",
    "dst_file = 'mnist_clf_pc.py'\n",
    "\n",
    "with open(src_file, 'r') as src:\n",
    "    with open(dst_file, 'w') as dst:\n",
    "        for line in src:\n",
    "            # Modify the first line if necessary\n",
    "            if 'from ulab import numpy as np' in line:\n",
    "                modified_line = line.replace('from ulab import numpy as np', 'import numpy as np')\n",
    "            else:\n",
    "            #    # Modify any occurrence of np.float to np.float32\n",
    "                modified_line = line.replace('np.float)', 'np.float32)')\n",
    "\n",
    "            dst.write(modified_line)\n",
    "\n",
    "print(f\"Successfully copied and modified {src_file} to {dst_file}.\")\n"
   ]
  },
  {
   "cell_type": "code",
   "execution_count": 12,
   "id": "691a5ae1",
   "metadata": {
    "execution": {
     "iopub.execute_input": "2024-06-29T04:45:49.466449Z",
     "iopub.status.busy": "2024-06-29T04:45:49.466091Z",
     "iopub.status.idle": "2024-06-29T04:45:50.054875Z",
     "shell.execute_reply": "2024-06-29T04:45:50.053623Z"
    },
    "papermill": {
     "duration": 0.650761,
     "end_time": "2024-06-29T04:45:50.057283",
     "exception": false,
     "start_time": "2024-06-29T04:45:49.406522",
     "status": "completed"
    },
    "tags": []
   },
   "outputs": [
    {
     "name": "stdout",
     "output_type": "stream",
     "text": [
      "All OK !\n"
     ]
    }
   ],
   "source": [
    "import importlib\n",
    "mnist_clf_pc = importlib.import_module('mnist_clf_pc')\n",
    "importlib.reload(mnist_clf_pc)\n",
    "output = mnist_clf_pc.validate()\n",
    "if output:\n",
    "    print(\"All OK !\")\n",
    "else:\n",
    "    print(\"Error!\")"
   ]
  },
  {
   "cell_type": "markdown",
   "id": "951b888a",
   "metadata": {
    "execution": {
     "iopub.execute_input": "2024-06-28T13:03:01.013339Z",
     "iopub.status.busy": "2024-06-28T13:03:01.012422Z",
     "iopub.status.idle": "2024-06-28T13:03:01.017270Z",
     "shell.execute_reply": "2024-06-28T13:03:01.016239Z",
     "shell.execute_reply.started": "2024-06-28T13:03:01.013301Z"
    },
    "papermill": {
     "duration": 0.058674,
     "end_time": "2024-06-29T04:45:50.177047",
     "exception": false,
     "start_time": "2024-06-29T04:45:50.118373",
     "status": "completed"
    },
    "tags": []
   },
   "source": [
    "## Converting the module to mpy (Freezing the module)"
   ]
  },
  {
   "cell_type": "markdown",
   "id": "786e80af",
   "metadata": {
    "papermill": {
     "duration": 0.060152,
     "end_time": "2024-06-29T04:45:50.296179",
     "exception": false,
     "start_time": "2024-06-29T04:45:50.236027",
     "status": "completed"
    },
    "tags": []
   },
   "source": [
    "⚠️ You may have to modify the `url` to download `mpy-cross` for your operating system. Here is list of `mpy-cross` binaries for all operating systems : https://adafruit-circuit-python.s3.amazonaws.com/index.html?prefix=bin/mpy-cross/"
   ]
  },
  {
   "cell_type": "code",
   "execution_count": 13,
   "id": "16834b10",
   "metadata": {
    "execution": {
     "iopub.execute_input": "2024-06-29T04:45:50.415665Z",
     "iopub.status.busy": "2024-06-29T04:45:50.415281Z",
     "iopub.status.idle": "2024-06-29T04:45:52.543750Z",
     "shell.execute_reply": "2024-06-29T04:45:52.542496Z"
    },
    "papermill": {
     "duration": 2.191336,
     "end_time": "2024-06-29T04:45:52.546235",
     "exception": false,
     "start_time": "2024-06-29T04:45:50.354899",
     "status": "completed"
    },
    "tags": []
   },
   "outputs": [
    {
     "name": "stdout",
     "output_type": "stream",
     "text": [
      "mpy-cross downloaded successfully.\n",
      "mpy-cross made executable.\n",
      "\n"
     ]
    }
   ],
   "source": [
    "import os\n",
    "import requests\n",
    "import subprocess\n",
    "\n",
    "# URL to download mpy-cross\n",
    "url = \"https://adafruit-circuit-python.s3.amazonaws.com/bin/mpy-cross/mpy-cross.static-amd64-linux-8.0.5\"\n",
    "\n",
    "# File path to save mpy-cross\n",
    "mpy_cross_path = \"./mpy-cross\"\n",
    "\n",
    "# Download mpy-cross\n",
    "response = requests.get(url)\n",
    "if response.status_code == 200:\n",
    "    with open(mpy_cross_path, \"wb\") as f:\n",
    "        f.write(response.content)\n",
    "    print(\"mpy-cross downloaded successfully.\")\n",
    "else:\n",
    "    print(f\"Failed to download mpy-cross. Status code: {response.status_code}\")\n",
    "\n",
    "# Make mpy-cross executable\n",
    "os.chmod(mpy_cross_path, 0o755)\n",
    "print(\"mpy-cross made executable.\")\n",
    "\n",
    "# Run mpy-cross and print output\n",
    "try:\n",
    "    output = subprocess.check_output([mpy_cross_path,\"mnist_clf.py\"], stderr=subprocess.STDOUT)\n",
    "    print(output.decode('utf-8'))\n",
    "except subprocess.CalledProcessError as e:\n",
    "    print(f\"Error running mpy-cross: {e.output.decode('utf-8')}\")"
   ]
  },
  {
   "cell_type": "markdown",
   "id": "565c46ff",
   "metadata": {
    "papermill": {
     "duration": 0.058138,
     "end_time": "2024-06-29T04:45:52.663311",
     "exception": false,
     "start_time": "2024-06-29T04:45:52.605173",
     "status": "completed"
    },
    "tags": []
   },
   "source": [
    "Done ! Download and copy the `mnist_clf.mpy` file to your CircuitPython board. Please make sure that you use CircuitPython 8"
   ]
  }
 ],
 "metadata": {
  "kaggle": {
   "accelerator": "none",
   "dataSources": [],
   "dockerImageVersionId": 30732,
   "isGpuEnabled": false,
   "isInternetEnabled": true,
   "language": "python",
   "sourceType": "notebook"
  },
  "kernelspec": {
   "display_name": "Python 3",
   "language": "python",
   "name": "python3"
  },
  "language_info": {
   "codemirror_mode": {
    "name": "ipython",
    "version": 3
   },
   "file_extension": ".py",
   "mimetype": "text/x-python",
   "name": "python",
   "nbconvert_exporter": "python",
   "pygments_lexer": "ipython3",
   "version": "3.10.13"
  },
  "papermill": {
   "default_parameters": {},
   "duration": 73.728312,
   "end_time": "2024-06-29T04:45:54.248377",
   "environment_variables": {},
   "exception": null,
   "input_path": "__notebook__.ipynb",
   "output_path": "__notebook__.ipynb",
   "parameters": {},
   "start_time": "2024-06-29T04:44:40.520065",
   "version": "2.5.0"
  }
 },
 "nbformat": 4,
 "nbformat_minor": 5
}
